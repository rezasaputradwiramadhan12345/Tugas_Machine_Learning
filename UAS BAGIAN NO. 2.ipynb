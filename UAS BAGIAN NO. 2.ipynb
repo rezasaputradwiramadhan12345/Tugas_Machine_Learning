{
  "nbformat": 4,
  "nbformat_minor": 0,
  "metadata": {
    "colab": {
      "name": "Untitled7.ipynb",
      "provenance": [],
      "authorship_tag": "ABX9TyOFKh++i5khZNP0kFic1duW",
      "include_colab_link": true
    },
    "kernelspec": {
      "name": "python3",
      "display_name": "Python 3"
    }
  },
  "cells": [
    {
      "cell_type": "markdown",
      "metadata": {
        "id": "view-in-github",
        "colab_type": "text"
      },
      "source": [
        "<a href=\"https://colab.research.google.com/github/rezasaputradwiramadhan12345/Tugas_Machine_Learning/blob/main/UAS%20BAGIAN%20NO.%202.ipynb\" target=\"_parent\"><img src=\"https://colab.research.google.com/assets/colab-badge.svg\" alt=\"Open In Colab\"/></a>"
      ]
    },
    {
      "cell_type": "code",
      "metadata": {
        "id": "eTprPZWAH2ea"
      },
      "source": [
        "#Dataset\r\n",
        "\r\n",
        "body =['Cold','Cold', 'Warm', 'Warm', 'Warm']\r\n",
        "gives =['No', 'Yes', 'No','No','No']\r\n",
        "fourlegged =['Yes',  'No', 'No', 'No','Yes']\r\n",
        "hibernate =['Yes',  'No', 'No', 'Yes','Yes']\r\n",
        "\r\n",
        "mamalia =['No', 'No','No','No', 'Yes']"
      ],
      "execution_count": 1,
      "outputs": []
    },
    {
      "cell_type": "code",
      "metadata": {
        "colab": {
          "base_uri": "https://localhost:8080/"
        },
        "id": "G0Dst7S6IA_9",
        "outputId": "d8371ac9-f5e2-4a28-ee2c-de8a1b5d407d"
      },
      "source": [
        "#Import LabelEncoder\r\n",
        "from sklearn import preprocessing\r\n",
        "#creating labelEncoder\r\n",
        "le = preprocessing.LabelEncoder()\r\n",
        "#Convert label string ke numbers\r\n",
        "body_encoded=le.fit_transform(body)\r\n",
        "print (body_encoded)"
      ],
      "execution_count": 2,
      "outputs": [
        {
          "output_type": "stream",
          "text": [
            "[0 0 1 1 1]\n"
          ],
          "name": "stdout"
        }
      ]
    },
    {
      "cell_type": "code",
      "metadata": {
        "colab": {
          "base_uri": "https://localhost:8080/"
        },
        "id": "P0zHrNVgIGgP",
        "outputId": "af86c8bd-6afa-478f-aaf4-5e9e9685be91"
      },
      "source": [
        "#Import LabelEncoder\r\n",
        "from sklearn import preprocessing\r\n",
        "#creating labelEncoder\r\n",
        "label = preprocessing.LabelEncoder()\r\n",
        "#Convert label string ke numbers\r\n",
        "gives_encoded=label.fit_transform(gives)\r\n",
        "print (gives_encoded) \r\n",
        "\r\n",
        "fourlegged_encoded=label.fit_transform(fourlegged)\r\n",
        "print (fourlegged_encoded)\r\n",
        "\r\n",
        "hibernate_encoded=label.fit_transform(hibernate)\r\n",
        "print (hibernate_encoded)\r\n",
        "\r\n",
        "mamalia_encoded=label.fit_transform(mamalia)\r\n",
        "print (mamalia_encoded)"
      ],
      "execution_count": 3,
      "outputs": [
        {
          "output_type": "stream",
          "text": [
            "[0 1 0 0 0]\n",
            "[1 0 0 0 1]\n",
            "[1 0 0 1 1]\n",
            "[0 0 0 0 1]\n"
          ],
          "name": "stdout"
        }
      ]
    },
    {
      "cell_type": "code",
      "metadata": {
        "colab": {
          "base_uri": "https://localhost:8080/"
        },
        "id": "HYtMOZTEINYL",
        "outputId": "a3d3eec5-30d7-4e21-b758-2ff166937209"
      },
      "source": [
        "print (\"body            :\",body_encoded)\r\n",
        "print (\"gives           :\",gives_encoded)\r\n",
        "print (\"fourlegged      :\",fourlegged_encoded)\r\n",
        "print (\"hibernate       :\",hibernate_encoded)\r\n",
        "print (\"mamalia         :\",mamalia_encoded)\r\n"
      ],
      "execution_count": 4,
      "outputs": [
        {
          "output_type": "stream",
          "text": [
            "body            : [0 0 1 1 1]\n",
            "gives           : [0 1 0 0 0]\n",
            "fourlegged      : [1 0 0 0 1]\n",
            "hibernate       : [1 0 0 1 1]\n",
            "mamalia         : [0 0 0 0 1]\n"
          ],
          "name": "stdout"
        }
      ]
    },
    {
      "cell_type": "code",
      "metadata": {
        "colab": {
          "base_uri": "https://localhost:8080/"
        },
        "id": "PdL7-KeIIUq5",
        "outputId": "7669d14b-42d8-4b3f-c9b5-06128d799178"
      },
      "source": [
        "#Combining fitur-fitur yang ada\r\n",
        "features=zip(body_encoded,gives_encoded,fourlegged_encoded,hibernate_encoded)\r\n",
        "features=list(features)\r\n",
        "print (tuple(features))"
      ],
      "execution_count": 5,
      "outputs": [
        {
          "output_type": "stream",
          "text": [
            "((0, 0, 1, 1), (0, 1, 0, 0), (1, 0, 0, 0), (1, 0, 0, 1), (1, 0, 1, 1))\n"
          ],
          "name": "stdout"
        }
      ]
    },
    {
      "cell_type": "code",
      "metadata": {
        "colab": {
          "base_uri": "https://localhost:8080/"
        },
        "id": "xAYS1KdXIerL",
        "outputId": "d62581d3-d04e-452b-9f35-8a376af7da7a"
      },
      "source": [
        "#Import Gaussian Naive Bayes model\r\n",
        "from sklearn.naive_bayes import GaussianNB\r\n",
        "\r\n",
        "#Panggil Gaussian Classifier\r\n",
        "model = GaussianNB()\r\n",
        "\r\n",
        "#Train model untuk data training\r\n",
        "model.fit(features,mamalia)\r\n",
        "#Model.fit(features,label.reshape(-1,1))\r\n",
        "\r\n",
        "#Peridiction Output\r\n",
        "predicted = model.predict([[1,1,0,0]]) #1 : warm, 1: Yes, 0: No , 0 : No\r\n",
        "print (\"Hasil Perdiksi:\", predicted)"
      ],
      "execution_count": 6,
      "outputs": [
        {
          "output_type": "stream",
          "text": [
            "Hasil Perdiksi: ['No']\n"
          ],
          "name": "stdout"
        }
      ]
    }
  ]
}